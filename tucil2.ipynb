{
 "cells": [
  {
   "cell_type": "code",
   "execution_count": 2,
   "metadata": {},
   "outputs": [],
   "source": [
    "import pandas as pd"
   ]
  },
  {
   "cell_type": "code",
   "execution_count": 3,
   "metadata": {},
   "outputs": [
    {
     "data": {
      "text/html": [
       "<div>\n",
       "<style scoped>\n",
       "    .dataframe tbody tr th:only-of-type {\n",
       "        vertical-align: middle;\n",
       "    }\n",
       "\n",
       "    .dataframe tbody tr th {\n",
       "        vertical-align: top;\n",
       "    }\n",
       "\n",
       "    .dataframe thead th {\n",
       "        text-align: right;\n",
       "    }\n",
       "</style>\n",
       "<table border=\"1\" class=\"dataframe\">\n",
       "  <thead>\n",
       "    <tr style=\"text-align: right;\">\n",
       "      <th></th>\n",
       "      <th>battery_power</th>\n",
       "      <th>blue</th>\n",
       "      <th>clock_speed</th>\n",
       "      <th>dual_sim</th>\n",
       "      <th>fc</th>\n",
       "      <th>four_g</th>\n",
       "      <th>int_memory</th>\n",
       "      <th>m_dep</th>\n",
       "      <th>mobile_wt</th>\n",
       "      <th>n_cores</th>\n",
       "      <th>...</th>\n",
       "      <th>px_height</th>\n",
       "      <th>px_width</th>\n",
       "      <th>ram</th>\n",
       "      <th>sc_h</th>\n",
       "      <th>sc_w</th>\n",
       "      <th>talk_time</th>\n",
       "      <th>three_g</th>\n",
       "      <th>touch_screen</th>\n",
       "      <th>wifi</th>\n",
       "      <th>price_range</th>\n",
       "    </tr>\n",
       "  </thead>\n",
       "  <tbody>\n",
       "    <tr>\n",
       "      <th>0</th>\n",
       "      <td>804</td>\n",
       "      <td>1</td>\n",
       "      <td>0.8</td>\n",
       "      <td>1</td>\n",
       "      <td>12</td>\n",
       "      <td>1</td>\n",
       "      <td>41</td>\n",
       "      <td>0.9</td>\n",
       "      <td>89</td>\n",
       "      <td>1</td>\n",
       "      <td>...</td>\n",
       "      <td>709</td>\n",
       "      <td>818</td>\n",
       "      <td>2027</td>\n",
       "      <td>11</td>\n",
       "      <td>5</td>\n",
       "      <td>11</td>\n",
       "      <td>1</td>\n",
       "      <td>0</td>\n",
       "      <td>0</td>\n",
       "      <td>1</td>\n",
       "    </tr>\n",
       "    <tr>\n",
       "      <th>1</th>\n",
       "      <td>1042</td>\n",
       "      <td>0</td>\n",
       "      <td>2.2</td>\n",
       "      <td>0</td>\n",
       "      <td>15</td>\n",
       "      <td>1</td>\n",
       "      <td>11</td>\n",
       "      <td>0.6</td>\n",
       "      <td>139</td>\n",
       "      <td>5</td>\n",
       "      <td>...</td>\n",
       "      <td>68</td>\n",
       "      <td>1018</td>\n",
       "      <td>2826</td>\n",
       "      <td>18</td>\n",
       "      <td>0</td>\n",
       "      <td>2</td>\n",
       "      <td>1</td>\n",
       "      <td>0</td>\n",
       "      <td>0</td>\n",
       "      <td>2</td>\n",
       "    </tr>\n",
       "    <tr>\n",
       "      <th>2</th>\n",
       "      <td>1481</td>\n",
       "      <td>1</td>\n",
       "      <td>2.0</td>\n",
       "      <td>1</td>\n",
       "      <td>0</td>\n",
       "      <td>0</td>\n",
       "      <td>35</td>\n",
       "      <td>0.5</td>\n",
       "      <td>105</td>\n",
       "      <td>3</td>\n",
       "      <td>...</td>\n",
       "      <td>249</td>\n",
       "      <td>522</td>\n",
       "      <td>2635</td>\n",
       "      <td>17</td>\n",
       "      <td>16</td>\n",
       "      <td>4</td>\n",
       "      <td>1</td>\n",
       "      <td>0</td>\n",
       "      <td>1</td>\n",
       "      <td>2</td>\n",
       "    </tr>\n",
       "    <tr>\n",
       "      <th>3</th>\n",
       "      <td>1104</td>\n",
       "      <td>0</td>\n",
       "      <td>1.7</td>\n",
       "      <td>0</td>\n",
       "      <td>1</td>\n",
       "      <td>1</td>\n",
       "      <td>60</td>\n",
       "      <td>0.4</td>\n",
       "      <td>199</td>\n",
       "      <td>2</td>\n",
       "      <td>...</td>\n",
       "      <td>653</td>\n",
       "      <td>1413</td>\n",
       "      <td>1229</td>\n",
       "      <td>6</td>\n",
       "      <td>0</td>\n",
       "      <td>3</td>\n",
       "      <td>1</td>\n",
       "      <td>1</td>\n",
       "      <td>1</td>\n",
       "      <td>0</td>\n",
       "    </tr>\n",
       "    <tr>\n",
       "      <th>4</th>\n",
       "      <td>652</td>\n",
       "      <td>0</td>\n",
       "      <td>0.5</td>\n",
       "      <td>1</td>\n",
       "      <td>1</td>\n",
       "      <td>0</td>\n",
       "      <td>58</td>\n",
       "      <td>0.6</td>\n",
       "      <td>142</td>\n",
       "      <td>3</td>\n",
       "      <td>...</td>\n",
       "      <td>464</td>\n",
       "      <td>781</td>\n",
       "      <td>565</td>\n",
       "      <td>18</td>\n",
       "      <td>12</td>\n",
       "      <td>9</td>\n",
       "      <td>0</td>\n",
       "      <td>0</td>\n",
       "      <td>1</td>\n",
       "      <td>0</td>\n",
       "    </tr>\n",
       "    <tr>\n",
       "      <th>...</th>\n",
       "      <td>...</td>\n",
       "      <td>...</td>\n",
       "      <td>...</td>\n",
       "      <td>...</td>\n",
       "      <td>...</td>\n",
       "      <td>...</td>\n",
       "      <td>...</td>\n",
       "      <td>...</td>\n",
       "      <td>...</td>\n",
       "      <td>...</td>\n",
       "      <td>...</td>\n",
       "      <td>...</td>\n",
       "      <td>...</td>\n",
       "      <td>...</td>\n",
       "      <td>...</td>\n",
       "      <td>...</td>\n",
       "      <td>...</td>\n",
       "      <td>...</td>\n",
       "      <td>...</td>\n",
       "      <td>...</td>\n",
       "      <td>...</td>\n",
       "    </tr>\n",
       "    <tr>\n",
       "      <th>1395</th>\n",
       "      <td>536</td>\n",
       "      <td>1</td>\n",
       "      <td>1.4</td>\n",
       "      <td>0</td>\n",
       "      <td>0</td>\n",
       "      <td>1</td>\n",
       "      <td>53</td>\n",
       "      <td>0.7</td>\n",
       "      <td>135</td>\n",
       "      <td>3</td>\n",
       "      <td>...</td>\n",
       "      <td>547</td>\n",
       "      <td>705</td>\n",
       "      <td>1211</td>\n",
       "      <td>15</td>\n",
       "      <td>10</td>\n",
       "      <td>7</td>\n",
       "      <td>1</td>\n",
       "      <td>0</td>\n",
       "      <td>1</td>\n",
       "      <td>0</td>\n",
       "    </tr>\n",
       "    <tr>\n",
       "      <th>1396</th>\n",
       "      <td>1097</td>\n",
       "      <td>0</td>\n",
       "      <td>0.8</td>\n",
       "      <td>0</td>\n",
       "      <td>10</td>\n",
       "      <td>1</td>\n",
       "      <td>21</td>\n",
       "      <td>0.1</td>\n",
       "      <td>160</td>\n",
       "      <td>7</td>\n",
       "      <td>...</td>\n",
       "      <td>1277</td>\n",
       "      <td>1352</td>\n",
       "      <td>2219</td>\n",
       "      <td>15</td>\n",
       "      <td>6</td>\n",
       "      <td>12</td>\n",
       "      <td>1</td>\n",
       "      <td>0</td>\n",
       "      <td>1</td>\n",
       "      <td>2</td>\n",
       "    </tr>\n",
       "    <tr>\n",
       "      <th>1397</th>\n",
       "      <td>1179</td>\n",
       "      <td>1</td>\n",
       "      <td>0.5</td>\n",
       "      <td>0</td>\n",
       "      <td>7</td>\n",
       "      <td>1</td>\n",
       "      <td>32</td>\n",
       "      <td>0.3</td>\n",
       "      <td>182</td>\n",
       "      <td>2</td>\n",
       "      <td>...</td>\n",
       "      <td>85</td>\n",
       "      <td>1451</td>\n",
       "      <td>340</td>\n",
       "      <td>16</td>\n",
       "      <td>5</td>\n",
       "      <td>16</td>\n",
       "      <td>1</td>\n",
       "      <td>0</td>\n",
       "      <td>0</td>\n",
       "      <td>0</td>\n",
       "    </tr>\n",
       "    <tr>\n",
       "      <th>1398</th>\n",
       "      <td>719</td>\n",
       "      <td>1</td>\n",
       "      <td>0.5</td>\n",
       "      <td>1</td>\n",
       "      <td>0</td>\n",
       "      <td>1</td>\n",
       "      <td>23</td>\n",
       "      <td>0.4</td>\n",
       "      <td>113</td>\n",
       "      <td>6</td>\n",
       "      <td>...</td>\n",
       "      <td>431</td>\n",
       "      <td>1727</td>\n",
       "      <td>3990</td>\n",
       "      <td>14</td>\n",
       "      <td>9</td>\n",
       "      <td>12</td>\n",
       "      <td>1</td>\n",
       "      <td>1</td>\n",
       "      <td>1</td>\n",
       "      <td>3</td>\n",
       "    </tr>\n",
       "    <tr>\n",
       "      <th>1399</th>\n",
       "      <td>1439</td>\n",
       "      <td>0</td>\n",
       "      <td>0.9</td>\n",
       "      <td>0</td>\n",
       "      <td>12</td>\n",
       "      <td>1</td>\n",
       "      <td>20</td>\n",
       "      <td>0.8</td>\n",
       "      <td>147</td>\n",
       "      <td>1</td>\n",
       "      <td>...</td>\n",
       "      <td>626</td>\n",
       "      <td>932</td>\n",
       "      <td>1790</td>\n",
       "      <td>19</td>\n",
       "      <td>12</td>\n",
       "      <td>15</td>\n",
       "      <td>1</td>\n",
       "      <td>0</td>\n",
       "      <td>1</td>\n",
       "      <td>1</td>\n",
       "    </tr>\n",
       "  </tbody>\n",
       "</table>\n",
       "<p>1400 rows × 21 columns</p>\n",
       "</div>"
      ],
      "text/plain": [
       "      battery_power  blue  clock_speed  dual_sim  fc  four_g  int_memory  \\\n",
       "0               804     1          0.8         1  12       1          41   \n",
       "1              1042     0          2.2         0  15       1          11   \n",
       "2              1481     1          2.0         1   0       0          35   \n",
       "3              1104     0          1.7         0   1       1          60   \n",
       "4               652     0          0.5         1   1       0          58   \n",
       "...             ...   ...          ...       ...  ..     ...         ...   \n",
       "1395            536     1          1.4         0   0       1          53   \n",
       "1396           1097     0          0.8         0  10       1          21   \n",
       "1397           1179     1          0.5         0   7       1          32   \n",
       "1398            719     1          0.5         1   0       1          23   \n",
       "1399           1439     0          0.9         0  12       1          20   \n",
       "\n",
       "      m_dep  mobile_wt  n_cores  ...  px_height  px_width   ram  sc_h  sc_w  \\\n",
       "0       0.9         89        1  ...        709       818  2027    11     5   \n",
       "1       0.6        139        5  ...         68      1018  2826    18     0   \n",
       "2       0.5        105        3  ...        249       522  2635    17    16   \n",
       "3       0.4        199        2  ...        653      1413  1229     6     0   \n",
       "4       0.6        142        3  ...        464       781   565    18    12   \n",
       "...     ...        ...      ...  ...        ...       ...   ...   ...   ...   \n",
       "1395    0.7        135        3  ...        547       705  1211    15    10   \n",
       "1396    0.1        160        7  ...       1277      1352  2219    15     6   \n",
       "1397    0.3        182        2  ...         85      1451   340    16     5   \n",
       "1398    0.4        113        6  ...        431      1727  3990    14     9   \n",
       "1399    0.8        147        1  ...        626       932  1790    19    12   \n",
       "\n",
       "      talk_time  three_g  touch_screen  wifi  price_range  \n",
       "0            11        1             0     0            1  \n",
       "1             2        1             0     0            2  \n",
       "2             4        1             0     1            2  \n",
       "3             3        1             1     1            0  \n",
       "4             9        0             0     1            0  \n",
       "...         ...      ...           ...   ...          ...  \n",
       "1395          7        1             0     1            0  \n",
       "1396         12        1             0     1            2  \n",
       "1397         16        1             0     0            0  \n",
       "1398         12        1             1     1            3  \n",
       "1399         15        1             0     1            1  \n",
       "\n",
       "[1400 rows x 21 columns]"
      ]
     },
     "execution_count": 3,
     "metadata": {},
     "output_type": "execute_result"
    }
   ],
   "source": [
    "train = pd.read_csv('data/data_train.csv')\n",
    "train"
   ]
  },
  {
   "cell_type": "code",
   "execution_count": 17,
   "metadata": {},
   "outputs": [
    {
     "data": {
      "text/html": [
       "<div>\n",
       "<style scoped>\n",
       "    .dataframe tbody tr th:only-of-type {\n",
       "        vertical-align: middle;\n",
       "    }\n",
       "\n",
       "    .dataframe tbody tr th {\n",
       "        vertical-align: top;\n",
       "    }\n",
       "\n",
       "    .dataframe thead th {\n",
       "        text-align: right;\n",
       "    }\n",
       "</style>\n",
       "<table border=\"1\" class=\"dataframe\">\n",
       "  <thead>\n",
       "    <tr style=\"text-align: right;\">\n",
       "      <th></th>\n",
       "      <th>battery_power</th>\n",
       "      <th>blue</th>\n",
       "      <th>clock_speed</th>\n",
       "      <th>dual_sim</th>\n",
       "      <th>fc</th>\n",
       "      <th>four_g</th>\n",
       "      <th>int_memory</th>\n",
       "      <th>m_dep</th>\n",
       "      <th>mobile_wt</th>\n",
       "      <th>n_cores</th>\n",
       "      <th>...</th>\n",
       "      <th>px_height</th>\n",
       "      <th>px_width</th>\n",
       "      <th>ram</th>\n",
       "      <th>sc_h</th>\n",
       "      <th>sc_w</th>\n",
       "      <th>talk_time</th>\n",
       "      <th>three_g</th>\n",
       "      <th>touch_screen</th>\n",
       "      <th>wifi</th>\n",
       "      <th>price_range</th>\n",
       "    </tr>\n",
       "  </thead>\n",
       "  <tbody>\n",
       "    <tr>\n",
       "      <th>0</th>\n",
       "      <td>804</td>\n",
       "      <td>1</td>\n",
       "      <td>0.8</td>\n",
       "      <td>1</td>\n",
       "      <td>12</td>\n",
       "      <td>1</td>\n",
       "      <td>41</td>\n",
       "      <td>0.9</td>\n",
       "      <td>89</td>\n",
       "      <td>1</td>\n",
       "      <td>...</td>\n",
       "      <td>709</td>\n",
       "      <td>818</td>\n",
       "      <td>2027</td>\n",
       "      <td>11</td>\n",
       "      <td>5</td>\n",
       "      <td>11</td>\n",
       "      <td>1</td>\n",
       "      <td>0</td>\n",
       "      <td>0</td>\n",
       "      <td>1</td>\n",
       "    </tr>\n",
       "    <tr>\n",
       "      <th>1</th>\n",
       "      <td>1042</td>\n",
       "      <td>0</td>\n",
       "      <td>2.2</td>\n",
       "      <td>0</td>\n",
       "      <td>15</td>\n",
       "      <td>1</td>\n",
       "      <td>11</td>\n",
       "      <td>0.6</td>\n",
       "      <td>139</td>\n",
       "      <td>5</td>\n",
       "      <td>...</td>\n",
       "      <td>68</td>\n",
       "      <td>1018</td>\n",
       "      <td>2826</td>\n",
       "      <td>18</td>\n",
       "      <td>0</td>\n",
       "      <td>2</td>\n",
       "      <td>1</td>\n",
       "      <td>0</td>\n",
       "      <td>0</td>\n",
       "      <td>2</td>\n",
       "    </tr>\n",
       "    <tr>\n",
       "      <th>2</th>\n",
       "      <td>1481</td>\n",
       "      <td>1</td>\n",
       "      <td>2.0</td>\n",
       "      <td>1</td>\n",
       "      <td>0</td>\n",
       "      <td>0</td>\n",
       "      <td>35</td>\n",
       "      <td>0.5</td>\n",
       "      <td>105</td>\n",
       "      <td>3</td>\n",
       "      <td>...</td>\n",
       "      <td>249</td>\n",
       "      <td>522</td>\n",
       "      <td>2635</td>\n",
       "      <td>17</td>\n",
       "      <td>16</td>\n",
       "      <td>4</td>\n",
       "      <td>1</td>\n",
       "      <td>0</td>\n",
       "      <td>1</td>\n",
       "      <td>2</td>\n",
       "    </tr>\n",
       "    <tr>\n",
       "      <th>3</th>\n",
       "      <td>1104</td>\n",
       "      <td>0</td>\n",
       "      <td>1.7</td>\n",
       "      <td>0</td>\n",
       "      <td>1</td>\n",
       "      <td>1</td>\n",
       "      <td>60</td>\n",
       "      <td>0.4</td>\n",
       "      <td>199</td>\n",
       "      <td>2</td>\n",
       "      <td>...</td>\n",
       "      <td>653</td>\n",
       "      <td>1413</td>\n",
       "      <td>1229</td>\n",
       "      <td>6</td>\n",
       "      <td>0</td>\n",
       "      <td>3</td>\n",
       "      <td>1</td>\n",
       "      <td>1</td>\n",
       "      <td>1</td>\n",
       "      <td>0</td>\n",
       "    </tr>\n",
       "    <tr>\n",
       "      <th>4</th>\n",
       "      <td>652</td>\n",
       "      <td>0</td>\n",
       "      <td>0.5</td>\n",
       "      <td>1</td>\n",
       "      <td>1</td>\n",
       "      <td>0</td>\n",
       "      <td>58</td>\n",
       "      <td>0.6</td>\n",
       "      <td>142</td>\n",
       "      <td>3</td>\n",
       "      <td>...</td>\n",
       "      <td>464</td>\n",
       "      <td>781</td>\n",
       "      <td>565</td>\n",
       "      <td>18</td>\n",
       "      <td>12</td>\n",
       "      <td>9</td>\n",
       "      <td>0</td>\n",
       "      <td>0</td>\n",
       "      <td>1</td>\n",
       "      <td>0</td>\n",
       "    </tr>\n",
       "  </tbody>\n",
       "</table>\n",
       "<p>5 rows × 21 columns</p>\n",
       "</div>"
      ],
      "text/plain": [
       "   battery_power  blue  clock_speed  dual_sim  fc  four_g  int_memory  m_dep  \\\n",
       "0            804     1          0.8         1  12       1          41    0.9   \n",
       "1           1042     0          2.2         0  15       1          11    0.6   \n",
       "2           1481     1          2.0         1   0       0          35    0.5   \n",
       "3           1104     0          1.7         0   1       1          60    0.4   \n",
       "4            652     0          0.5         1   1       0          58    0.6   \n",
       "\n",
       "   mobile_wt  n_cores  ...  px_height  px_width   ram  sc_h  sc_w  talk_time  \\\n",
       "0         89        1  ...        709       818  2027    11     5         11   \n",
       "1        139        5  ...         68      1018  2826    18     0          2   \n",
       "2        105        3  ...        249       522  2635    17    16          4   \n",
       "3        199        2  ...        653      1413  1229     6     0          3   \n",
       "4        142        3  ...        464       781   565    18    12          9   \n",
       "\n",
       "   three_g  touch_screen  wifi  price_range  \n",
       "0        1             0     0            1  \n",
       "1        1             0     0            2  \n",
       "2        1             0     1            2  \n",
       "3        1             1     1            0  \n",
       "4        0             0     1            0  \n",
       "\n",
       "[5 rows x 21 columns]"
      ]
     },
     "execution_count": 17,
     "metadata": {},
     "output_type": "execute_result"
    }
   ],
   "source": [
    "train.head()"
   ]
  },
  {
   "cell_type": "code",
   "execution_count": 25,
   "metadata": {},
   "outputs": [
    {
     "name": "stdout",
     "output_type": "stream",
     "text": [
      "Mean:  1237.1457142857143\n",
      "Median:  1219.0\n",
      "Mode:  0     772\n",
      "1    1068\n",
      "2    1330\n",
      "3    1872\n",
      "4    1949\n",
      "Name: battery_power, dtype: int64\n",
      "Variance:  184944.53772286326\n",
      "Standard Deviation:  430.05178493160946\n",
      "Range:  1497\n",
      "Quartile:  0.25     864.75\n",
      "0.50    1219.00\n",
      "0.75    1602.00\n",
      "Name: battery_power, dtype: float64\n",
      "IQR:  737.25\n",
      "Minimum:  501\n",
      "Maximum:  1998\n"
     ]
    }
   ],
   "source": [
    "# battery_power: Total energy a battery can store in one time measured in mAh\n",
    "\n",
    "# mean\n",
    "train['battery_power'].mean()\n",
    "\n",
    "# median\n",
    "train['battery_power'].median()\n",
    "\n",
    "# mode\n",
    "train['battery_power'].mode()\n",
    "\n",
    "# variance\n",
    "train['battery_power'].var()\n",
    "\n",
    "# standard deviation\n",
    "train['battery_power'].std()\n",
    "\n",
    "# range\n",
    "train['battery_power'].max() - train['battery_power'].min()\n",
    "\n",
    "# quartile\n",
    "train['battery_power'].quantile([0.25, 0.5, 0.75])\n",
    "\n",
    "# IQR\n",
    "train['battery_power'].quantile(0.75) - train['battery_power'].quantile(0.25)\n",
    "\n",
    "# minimum\n",
    "train['battery_power'].min()\n",
    "\n",
    "# maximum\n",
    "train['battery_power'].max()\n",
    "\n",
    "# print\n",
    "print('Mean: ', train['battery_power'].mean())\n",
    "print('Median: ', train['battery_power'].median())\n",
    "print('Mode: ', train['battery_power'].mode())\n",
    "print('Variance: ', train['battery_power'].var())\n",
    "print('Standard Deviation: ', train['battery_power'].std())\n",
    "print('Range: ', train['battery_power'].max() - train['battery_power'].min())\n",
    "print('Quartile: ', train['battery_power'].quantile([0.25, 0.5, 0.75]))\n",
    "print('IQR: ', train['battery_power'].quantile(0.75) - train['battery_power'].quantile(0.25))\n",
    "print('Minimum: ', train['battery_power'].min())\n",
    "print('Maximum: ', train['battery_power'].max())\n"
   ]
  },
  {
   "cell_type": "code",
   "execution_count": 28,
   "metadata": {},
   "outputs": [
    {
     "name": "stdout",
     "output_type": "stream",
     "text": [
      "Median:  0.0\n",
      "Mode:  0    0\n",
      "Name: blue, dtype: int64\n"
     ]
    }
   ],
   "source": [
    "# blue: Has bluetooth or not\n",
    "\n",
    "# median\n",
    "train['blue'].median()\n",
    "\n",
    "# mode\n",
    "train['blue'].mode()\n",
    "\n",
    "# print\n",
    "print('Median: ', train['blue'].median())\n",
    "print('Mode: ', train['blue'].mode())"
   ]
  },
  {
   "cell_type": "code",
   "execution_count": 29,
   "metadata": {},
   "outputs": [
    {
     "name": "stdout",
     "output_type": "stream",
     "text": [
      "Mean:  1.5217142857142854\n",
      "Median:  1.5\n",
      "Mode:  0    0.5\n",
      "Name: clock_speed, dtype: float64\n",
      "Variance:  0.6637740426835494\n",
      "Standard Deviation:  0.8147232920958806\n",
      "Range:  2.5\n",
      "Quartile:  0.25    0.7\n",
      "0.50    1.5\n",
      "0.75    2.2\n",
      "Name: clock_speed, dtype: float64\n",
      "IQR:  1.5000000000000002\n",
      "Minimum:  0.5\n",
      "Maximum:  3.0\n"
     ]
    }
   ],
   "source": [
    "# clock_speed: speed at which microprocessor executes instructions\n",
    "\n",
    "# mean\n",
    "train['clock_speed'].mean()\n",
    "\n",
    "# median\n",
    "train['clock_speed'].median()\n",
    "\n",
    "# mode  \n",
    "train['clock_speed'].mode()\n",
    "\n",
    "# variance\n",
    "train['clock_speed'].var()\n",
    "\n",
    "# standard deviation\n",
    "train['clock_speed'].std()\n",
    "\n",
    "# range\n",
    "train['clock_speed'].max() - train['clock_speed'].min()\n",
    "\n",
    "# quartile\n",
    "train['clock_speed'].quantile([0.25, 0.5, 0.75])\n",
    "\n",
    "# IQR\n",
    "train['clock_speed'].quantile(0.75) - train['clock_speed'].quantile(0.25)\n",
    "\n",
    "# minimum\n",
    "train['clock_speed'].min()\n",
    "\n",
    "# maximum\n",
    "train['clock_speed'].max()\n",
    "\n",
    "# print\n",
    "print('Mean: ', train['clock_speed'].mean())\n",
    "print('Median: ', train['clock_speed'].median())\n",
    "print('Mode: ', train['clock_speed'].mode())\n",
    "print('Variance: ', train['clock_speed'].var())\n",
    "print('Standard Deviation: ', train['clock_speed'].std())\n",
    "print('Range: ', train['clock_speed'].max() - train['clock_speed'].min())\n",
    "print('Quartile: ', train['clock_speed'].quantile([0.25, 0.5, 0.75]))\n",
    "print('IQR: ', train['clock_speed'].quantile(0.75) - train['clock_speed'].quantile(0.25))\n",
    "print('Minimum: ', train['clock_speed'].min())\n",
    "print('Maximum: ', train['clock_speed'].max())"
   ]
  },
  {
   "cell_type": "code",
   "execution_count": 30,
   "metadata": {},
   "outputs": [
    {
     "name": "stdout",
     "output_type": "stream",
     "text": [
      "Median:  1.0\n",
      "Mode:  0    1\n",
      "Name: dual_sim, dtype: int64\n"
     ]
    }
   ],
   "source": [
    "# dual_sim: Has dual sim support or not\n",
    "\n",
    "# median\n",
    "train['dual_sim'].median()\n",
    "\n",
    "# mode\n",
    "train['dual_sim'].mode()\n",
    "\n",
    "# print\n",
    "print('Median: ', train['dual_sim'].median())\n",
    "print('Mode: ', train['dual_sim'].mode())"
   ]
  },
  {
   "cell_type": "code",
   "execution_count": 31,
   "metadata": {},
   "outputs": [
    {
     "name": "stdout",
     "output_type": "stream",
     "text": [
      "Mean:  4.275\n",
      "Median:  3.0\n",
      "Mode:  0    0\n",
      "Name: fc, dtype: int64\n",
      "Variance:  18.698445318084346\n",
      "Standard Deviation:  4.3241698993083455\n",
      "Range:  19\n",
      "Quartile:  0.25    1.0\n",
      "0.50    3.0\n",
      "0.75    7.0\n",
      "Name: fc, dtype: float64\n",
      "IQR:  6.0\n",
      "Minimum:  0\n",
      "Maximum:  19\n"
     ]
    }
   ],
   "source": [
    "# fc: Front Camera mega pixels\n",
    "\n",
    "# mean\n",
    "train['fc'].mean()\n",
    "\n",
    "# median\n",
    "train['fc'].median()\n",
    "\n",
    "# mode\n",
    "train['fc'].mode()\n",
    "\n",
    "# variance\n",
    "train['fc'].var()\n",
    "\n",
    "# standard deviation\n",
    "train['fc'].std()\n",
    "\n",
    "# range\n",
    "train['fc'].max() - train['fc'].min()\n",
    "\n",
    "# quartile\n",
    "train['fc'].quantile([0.25, 0.5, 0.75])\n",
    "\n",
    "# IQR\n",
    "train['fc'].quantile(0.75) - train['fc'].quantile(0.25)\n",
    "\n",
    "# minimum\n",
    "train['fc'].min()\n",
    "\n",
    "# maximum\n",
    "train['fc'].max()\n",
    "\n",
    "# print\n",
    "print('Mean: ', train['fc'].mean())\n",
    "print('Median: ', train['fc'].median())\n",
    "print('Mode: ', train['fc'].mode())\n",
    "print('Variance: ', train['fc'].var())\n",
    "print('Standard Deviation: ', train['fc'].std())\n",
    "print('Range: ', train['fc'].max() - train['fc'].min())\n",
    "print('Quartile: ', train['fc'].quantile([0.25, 0.5, 0.75]))\n",
    "print('IQR: ', train['fc'].quantile(0.75) - train['fc'].quantile(0.25))\n",
    "print('Minimum: ', train['fc'].min())\n",
    "print('Maximum: ', train['fc'].max())"
   ]
  },
  {
   "cell_type": "code",
   "execution_count": 33,
   "metadata": {},
   "outputs": [
    {
     "name": "stdout",
     "output_type": "stream",
     "text": [
      "Median:  1.0\n",
      "Mode:  0    1\n",
      "Name: four_g, dtype: int64\n"
     ]
    }
   ],
   "source": [
    "# four_g: Has 4G or not\n",
    "\n",
    "# median\n",
    "train['four_g'].median()\n",
    "\n",
    "# mode\n",
    "train['four_g'].mode()\n",
    "\n",
    "# print\n",
    "print('Median: ', train['four_g'].median())\n",
    "print('Mode: ', train['four_g'].mode())"
   ]
  },
  {
   "cell_type": "code",
   "execution_count": 34,
   "metadata": {},
   "outputs": [
    {
     "name": "stdout",
     "output_type": "stream",
     "text": [
      "Mean:  31.962142857142858\n",
      "Median:  32.0\n",
      "Mode:  0    27\n",
      "Name: int_memory, dtype: int64\n",
      "Variance:  329.8934907587052\n",
      "Standard Deviation:  18.1629703176189\n",
      "Range:  62\n",
      "Quartile:  0.25    16.0\n",
      "0.50    32.0\n",
      "0.75    48.0\n",
      "Name: int_memory, dtype: float64\n",
      "IQR:  32.0\n",
      "Minimum:  2\n",
      "Maximum:  64\n"
     ]
    }
   ],
   "source": [
    "# int_memory: Internal Memory in Gigabytes\n",
    "\n",
    "# mean\n",
    "train['int_memory'].mean()\n",
    "\n",
    "# median\n",
    "train['int_memory'].median()\n",
    "\n",
    "# mode\n",
    "train['int_memory'].mode()\n",
    "\n",
    "# variance\n",
    "train['int_memory'].var()\n",
    "\n",
    "# standard deviation\n",
    "train['int_memory'].std()\n",
    "\n",
    "# range\n",
    "train['int_memory'].max() - train['int_memory'].min()\n",
    "\n",
    "# quartile\n",
    "train['int_memory'].quantile([0.25, 0.5, 0.75])\n",
    "\n",
    "# IQR\n",
    "train['int_memory'].quantile(0.75) - train['int_memory'].quantile(0.25)\n",
    "\n",
    "# minimum\n",
    "train['int_memory'].min()\n",
    "\n",
    "# maximum\n",
    "train['int_memory'].max()\n",
    "\n",
    "# print\n",
    "print('Mean: ', train['int_memory'].mean())\n",
    "print('Median: ', train['int_memory'].median())\n",
    "print('Mode: ', train['int_memory'].mode())\n",
    "print('Variance: ', train['int_memory'].var())\n",
    "print('Standard Deviation: ', train['int_memory'].std())\n",
    "print('Range: ', train['int_memory'].max() - train['int_memory'].min())\n",
    "print('Quartile: ', train['int_memory'].quantile([0.25, 0.5, 0.75]))\n",
    "print('IQR: ', train['int_memory'].quantile(0.75) - train['int_memory'].quantile(0.25))\n",
    "print('Minimum: ', train['int_memory'].min())\n",
    "print('Maximum: ', train['int_memory'].max())\n"
   ]
  },
  {
   "cell_type": "code",
   "execution_count": 35,
   "metadata": {},
   "outputs": [
    {
     "name": "stdout",
     "output_type": "stream",
     "text": [
      "Mean:  0.5078571428571429\n",
      "Median:  0.5\n",
      "Mode:  0    0.1\n",
      "Name: m_dep, dtype: float64\n",
      "Variance:  0.08325487593178801\n",
      "Standard Deviation:  0.28853921038879277\n",
      "Range:  0.9\n",
      "Quartile:  0.25    0.2\n",
      "0.50    0.5\n",
      "0.75    0.8\n",
      "Name: m_dep, dtype: float64\n",
      "IQR:  0.6000000000000001\n",
      "Minimum:  0.1\n",
      "Maximum:  1.0\n"
     ]
    }
   ],
   "source": [
    "# m_dep: Mobile Depth in cm\n",
    "\n",
    "# mean\n",
    "train['m_dep'].mean()\n",
    "\n",
    "# median\n",
    "train['m_dep'].median()\n",
    "\n",
    "# mode\n",
    "train['m_dep'].mode()\n",
    "\n",
    "# variance\n",
    "train['m_dep'].var()\n",
    "\n",
    "# standard deviation\n",
    "train['m_dep'].std()\n",
    "\n",
    "# range\n",
    "train['m_dep'].max() - train['m_dep'].min()\n",
    "\n",
    "# quartile\n",
    "train['m_dep'].quantile([0.25, 0.5, 0.75])\n",
    "\n",
    "# IQR\n",
    "train['m_dep'].quantile(0.75) - train['m_dep'].quantile(0.25)\n",
    "\n",
    "# minimum\n",
    "train['m_dep'].min()\n",
    "\n",
    "# maximum\n",
    "train['m_dep'].max()\n",
    "\n",
    "# print\n",
    "print('Mean: ', train['m_dep'].mean())\n",
    "print('Median: ', train['m_dep'].median())\n",
    "print('Mode: ', train['m_dep'].mode())\n",
    "print('Variance: ', train['m_dep'].var())\n",
    "print('Standard Deviation: ', train['m_dep'].std())\n",
    "print('Range: ', train['m_dep'].max() - train['m_dep'].min())\n",
    "print('Quartile: ', train['m_dep'].quantile([0.25, 0.5, 0.75]))\n",
    "print('IQR: ', train['m_dep'].quantile(0.75) - train['m_dep'].quantile(0.25))\n",
    "print('Minimum: ', train['m_dep'].min())\n",
    "print('Maximum: ', train['m_dep'].max())"
   ]
  },
  {
   "cell_type": "code",
   "execution_count": 4,
   "metadata": {},
   "outputs": [
    {
     "name": "stdout",
     "output_type": "stream",
     "text": [
      "Mean:  139.37571428571428\n",
      "Median:  139.0\n",
      "Mode:  0    182\n",
      "Name: mobile_wt, dtype: int64\n",
      "Variance:  1253.2168508118043\n",
      "Standard Deviation:  35.4008029684611\n",
      "Range:  120\n",
      "Quartile:  0.25    108.0\n",
      "0.50    139.0\n",
      "0.75    169.0\n",
      "Name: mobile_wt, dtype: float64\n",
      "IQR:  61.0\n",
      "Minimum:  80\n",
      "Maximum:  200\n"
     ]
    }
   ],
   "source": [
    "# mobile_wt: Weight of mobile phone\n",
    "\n",
    "# mean\n",
    "train['mobile_wt'].mean()\n",
    "\n",
    "# median\n",
    "train['mobile_wt'].median()\n",
    "\n",
    "# mode\n",
    "train['mobile_wt'].mode()\n",
    "\n",
    "# variance\n",
    "train['mobile_wt'].var()\n",
    "\n",
    "# standard deviation\n",
    "train['mobile_wt'].std()\n",
    "\n",
    "# range\n",
    "train['mobile_wt'].max() - train['mobile_wt'].min()\n",
    "\n",
    "# quartile\n",
    "train['mobile_wt'].quantile([0.25, 0.5, 0.75])\n",
    "\n",
    "# IQR\n",
    "train['mobile_wt'].quantile(0.75) - train['mobile_wt'].quantile(0.25)\n",
    "\n",
    "# minimum\n",
    "train['mobile_wt'].min()\n",
    "\n",
    "# maximum\n",
    "train['mobile_wt'].max()\n",
    "\n",
    "# print\n",
    "print('Mean: ', train['mobile_wt'].mean())\n",
    "print('Median: ', train['mobile_wt'].median())\n",
    "print('Mode: ', train['mobile_wt'].mode())\n",
    "print('Variance: ', train['mobile_wt'].var())\n",
    "print('Standard Deviation: ', train['mobile_wt'].std())\n",
    "print('Range: ', train['mobile_wt'].max() - train['mobile_wt'].min())\n",
    "print('Quartile: ', train['mobile_wt'].quantile([0.25, 0.5, 0.75]))\n",
    "print('IQR: ', train['mobile_wt'].quantile(0.75) - train['mobile_wt'].quantile(0.25))\n",
    "print('Minimum: ', train['mobile_wt'].min())\n",
    "print('Maximum: ', train['mobile_wt'].max())\n"
   ]
  },
  {
   "cell_type": "code",
   "execution_count": 5,
   "metadata": {},
   "outputs": [
    {
     "name": "stdout",
     "output_type": "stream",
     "text": [
      "Mean:  4.481428571428571\n",
      "Median:  4.0\n",
      "Mode:  0    4\n",
      "Name: n_cores, dtype: int64\n",
      "Variance:  5.197653425916471\n",
      "Standard Deviation:  2.279836271734545\n",
      "Range:  7\n",
      "Quartile:  0.25    2.0\n",
      "0.50    4.0\n",
      "0.75    7.0\n",
      "Name: n_cores, dtype: float64\n",
      "IQR:  5.0\n",
      "Minimum:  1\n",
      "Maximum:  8\n"
     ]
    }
   ],
   "source": [
    "# n_cores: Number of cores of processor\n",
    "\n",
    "# mean\n",
    "train['n_cores'].mean()\n",
    "\n",
    "# median\n",
    "train['n_cores'].median()\n",
    "\n",
    "# mode\n",
    "train['n_cores'].mode()\n",
    "\n",
    "# variance\n",
    "train['n_cores'].var()\n",
    "\n",
    "# standard deviation\n",
    "train['n_cores'].std()\n",
    "\n",
    "# range\n",
    "train['n_cores'].max() - train['n_cores'].min()\n",
    "\n",
    "# quartile\n",
    "train['n_cores'].quantile([0.25, 0.5, 0.75])\n",
    "\n",
    "# IQR\n",
    "train['n_cores'].quantile(0.75) - train['n_cores'].quantile(0.25)\n",
    "\n",
    "# minimum\n",
    "train['n_cores'].min()\n",
    "\n",
    "# maximum\n",
    "train['n_cores'].max()\n",
    "\n",
    "# print\n",
    "print('Mean: ', train['n_cores'].mean())\n",
    "print('Median: ', train['n_cores'].median())\n",
    "print('Mode: ', train['n_cores'].mode())\n",
    "print('Variance: ', train['n_cores'].var())\n",
    "print('Standard Deviation: ', train['n_cores'].std())\n",
    "print('Range: ', train['n_cores'].max() - train['n_cores'].min())\n",
    "print('Quartile: ', train['n_cores'].quantile([0.25, 0.5, 0.75]))\n",
    "print('IQR: ', train['n_cores'].quantile(0.75) - train['n_cores'].quantile(0.25))\n",
    "print('Minimum: ', train['n_cores'].min())\n",
    "print('Maximum: ', train['n_cores'].max())"
   ]
  },
  {
   "cell_type": "code",
   "execution_count": 6,
   "metadata": {},
   "outputs": [
    {
     "name": "stdout",
     "output_type": "stream",
     "text": [
      "Mean:  9.917142857142856\n",
      "Median:  10.0\n",
      "Mode:  0    10\n",
      "Name: pc, dtype: int64\n",
      "Variance:  36.96668232410906\n",
      "Standard Deviation:  6.08002321739885\n",
      "Range:  20\n",
      "Quartile:  0.25     5.0\n",
      "0.50    10.0\n",
      "0.75    15.0\n",
      "Name: pc, dtype: float64\n",
      "IQR:  10.0\n",
      "Minimum:  0\n",
      "Maximum:  20\n"
     ]
    }
   ],
   "source": [
    "# pc: Primary Camera mega pixels\n",
    "\n",
    "# mean\n",
    "train['pc'].mean()\n",
    "\n",
    "# median\n",
    "train['pc'].median()\n",
    "\n",
    "# mode\n",
    "train['pc'].mode()\n",
    "\n",
    "# variance\n",
    "train['pc'].var()\n",
    "\n",
    "# standard deviation\n",
    "train['pc'].std()\n",
    "\n",
    "# range\n",
    "train['pc'].max() - train['pc'].min()\n",
    "\n",
    "# quartile\n",
    "train['pc'].quantile([0.25, 0.5, 0.75])\n",
    "\n",
    "# IQR\n",
    "train['pc'].quantile(0.75) - train['pc'].quantile(0.25)\n",
    "\n",
    "# minimum\n",
    "train['pc'].min()\n",
    "\n",
    "# maximum\n",
    "train['pc'].max()\n",
    "\n",
    "# print\n",
    "print('Mean: ', train['pc'].mean())\n",
    "print('Median: ', train['pc'].median())\n",
    "print('Mode: ', train['pc'].mode())\n",
    "print('Variance: ', train['pc'].var())\n",
    "print('Standard Deviation: ', train['pc'].std())\n",
    "print('Range: ', train['pc'].max() - train['pc'].min())\n",
    "print('Quartile: ', train['pc'].quantile([0.25, 0.5, 0.75]))\n",
    "print('IQR: ', train['pc'].quantile(0.75) - train['pc'].quantile(0.25))\n",
    "print('Minimum: ', train['pc'].min())\n",
    "print('Maximum: ', train['pc'].max())"
   ]
  },
  {
   "cell_type": "code",
   "execution_count": 7,
   "metadata": {},
   "outputs": [
    {
     "name": "stdout",
     "output_type": "stream",
     "text": [
      "Mean:  643.1778571428572\n",
      "Median:  561.0\n",
      "Mode:  0     88\n",
      "1    347\n",
      "2    526\n",
      "Name: px_height, dtype: int64\n",
      "Variance:  197694.9297452262\n",
      "Standard Deviation:  444.6289798756107\n",
      "Range:  1960\n",
      "Quartile:  0.25    273.75\n",
      "0.50    561.00\n",
      "0.75    950.25\n",
      "Name: px_height, dtype: float64\n",
      "IQR:  676.5\n",
      "Minimum:  0\n",
      "Maximum:  1960\n"
     ]
    }
   ],
   "source": [
    "# px_height: Pixel Resolution Height\n",
    "\n",
    "# mean\n",
    "train['px_height'].mean()\n",
    "\n",
    "# median\n",
    "train['px_height'].median()\n",
    "\n",
    "# mode\n",
    "train['px_height'].mode()\n",
    "\n",
    "# variance\n",
    "train['px_height'].var()\n",
    "\n",
    "# standard deviation\n",
    "train['px_height'].std()\n",
    "\n",
    "# range\n",
    "train['px_height'].max() - train['px_height'].min()\n",
    "\n",
    "# quartile\n",
    "train['px_height'].quantile([0.25, 0.5, 0.75])\n",
    "\n",
    "# IQR\n",
    "train['px_height'].quantile(0.75) - train['px_height'].quantile(0.25)\n",
    "\n",
    "# minimum\n",
    "train['px_height'].min()\n",
    "\n",
    "# maximum\n",
    "train['px_height'].max()\n",
    "\n",
    "# print\n",
    "print('Mean: ', train['px_height'].mean())\n",
    "print('Median: ', train['px_height'].median())\n",
    "print('Mode: ', train['px_height'].mode())\n",
    "print('Variance: ', train['px_height'].var())\n",
    "print('Standard Deviation: ', train['px_height'].std())\n",
    "print('Range: ', train['px_height'].max() - train['px_height'].min())\n",
    "print('Quartile: ', train['px_height'].quantile([0.25, 0.5, 0.75]))\n",
    "print('IQR: ', train['px_height'].quantile(0.75) - train['px_height'].quantile(0.25))\n",
    "print('Minimum: ', train['px_height'].min())\n",
    "print('Maximum: ', train['px_height'].max())"
   ]
  },
  {
   "cell_type": "code",
   "execution_count": 8,
   "metadata": {},
   "outputs": [
    {
     "name": "stdout",
     "output_type": "stream",
     "text": [
      "Mean:  1251.7171428571428\n",
      "Median:  1247.0\n",
      "Mode:  0    1247\n",
      "Name: px_width, dtype: int64\n",
      "Variance:  184026.28591034413\n",
      "Standard Deviation:  428.9828503685714\n",
      "Range:  1498\n",
      "Quartile:  0.25     876.5\n",
      "0.50    1247.0\n",
      "0.75    1627.5\n",
      "Name: px_width, dtype: float64\n",
      "IQR:  751.0\n",
      "Minimum:  500\n",
      "Maximum:  1998\n"
     ]
    }
   ],
   "source": [
    "# px_width: Pixel Resolution Width\n",
    "\n",
    "# mean\n",
    "train['px_width'].mean()\n",
    "\n",
    "# median\n",
    "train['px_width'].median()\n",
    "\n",
    "# mode\n",
    "train['px_width'].mode()\n",
    "\n",
    "# variance\n",
    "train['px_width'].var()\n",
    "\n",
    "# standard deviation\n",
    "train['px_width'].std()\n",
    "\n",
    "# range\n",
    "train['px_width'].max() - train['px_width'].min()\n",
    "\n",
    "# quartile\n",
    "train['px_width'].quantile([0.25, 0.5, 0.75])\n",
    "\n",
    "# IQR\n",
    "train['px_width'].quantile(0.75) - train['px_width'].quantile(0.25)\n",
    "\n",
    "# minimum\n",
    "train['px_width'].min()\n",
    "\n",
    "# maximum\n",
    "train['px_width'].max()\n",
    "\n",
    "# print\n",
    "print('Mean: ', train['px_width'].mean())\n",
    "print('Median: ', train['px_width'].median())\n",
    "print('Mode: ', train['px_width'].mode())\n",
    "print('Variance: ', train['px_width'].var())\n",
    "print('Standard Deviation: ', train['px_width'].std())\n",
    "print('Range: ', train['px_width'].max() - train['px_width'].min())\n",
    "print('Quartile: ', train['px_width'].quantile([0.25, 0.5, 0.75]))\n",
    "print('IQR: ', train['px_width'].quantile(0.75) - train['px_width'].quantile(0.25))\n",
    "print('Minimum: ', train['px_width'].min())\n",
    "print('Maximum: ', train['px_width'].max())"
   ]
  },
  {
   "cell_type": "code",
   "execution_count": 9,
   "metadata": {},
   "outputs": [
    {
     "name": "stdout",
     "output_type": "stream",
     "text": [
      "Mean:  2106.7314285714288\n",
      "Median:  2102.0\n",
      "Mode:  0    1229\n",
      "1    3142\n",
      "Name: ram, dtype: int64\n",
      "Variance:  1162832.8499050343\n",
      "Standard Deviation:  1078.3472770425278\n",
      "Range:  3742\n",
      "Quartile:  0.25    1201.00\n",
      "0.50    2102.00\n",
      "0.75    3035.75\n",
      "Name: ram, dtype: float64\n",
      "IQR:  1834.75\n",
      "Minimum:  256\n",
      "Maximum:  3998\n"
     ]
    }
   ],
   "source": [
    "# ram: Random Access Memory in Mega Bytes\n",
    "\n",
    "# mean\n",
    "train['ram'].mean()\n",
    "\n",
    "# median\n",
    "train['ram'].median()\n",
    "\n",
    "# mode\n",
    "train['ram'].mode()\n",
    "\n",
    "# variance\n",
    "train['ram'].var()\n",
    "\n",
    "# standard deviation\n",
    "train['ram'].std()\n",
    "\n",
    "# range\n",
    "train['ram'].max() - train['ram'].min()\n",
    "\n",
    "# quartile\n",
    "train['ram'].quantile([0.25, 0.5, 0.75])\n",
    "\n",
    "# IQR\n",
    "train['ram'].quantile(0.75) - train['ram'].quantile(0.25)\n",
    "\n",
    "# minimum\n",
    "train['ram'].min()\n",
    "\n",
    "# maximum\n",
    "train['ram'].max()\n",
    "\n",
    "# print\n",
    "print('Mean: ', train['ram'].mean())\n",
    "print('Median: ', train['ram'].median())\n",
    "print('Mode: ', train['ram'].mode())\n",
    "print('Variance: ', train['ram'].var())\n",
    "print('Standard Deviation: ', train['ram'].std())\n",
    "print('Range: ', train['ram'].max() - train['ram'].min())\n",
    "print('Quartile: ', train['ram'].quantile([0.25, 0.5, 0.75]))\n",
    "print('IQR: ', train['ram'].quantile(0.75) - train['ram'].quantile(0.25))\n",
    "print('Minimum: ', train['ram'].min())\n",
    "print('Maximum: ', train['ram'].max())"
   ]
  },
  {
   "cell_type": "code",
   "execution_count": 10,
   "metadata": {},
   "outputs": [
    {
     "name": "stdout",
     "output_type": "stream",
     "text": [
      "Mean:  12.285714285714286\n",
      "Median:  12.0\n",
      "Mode:  0    17\n",
      "Name: sc_h, dtype: int64\n",
      "Variance:  17.67527825998162\n",
      "Standard Deviation:  4.204197695159163\n",
      "Range:  14\n",
      "Quartile:  0.25     9.0\n",
      "0.50    12.0\n",
      "0.75    16.0\n",
      "Name: sc_h, dtype: float64\n",
      "IQR:  7.0\n",
      "Minimum:  5\n",
      "Maximum:  19\n"
     ]
    }
   ],
   "source": [
    "# sc_h: Screen Height of mobile in cm\n",
    "\n",
    "# mean\n",
    "train['sc_h'].mean()\n",
    "\n",
    "# median\n",
    "train['sc_h'].median()\n",
    "\n",
    "# mode\n",
    "train['sc_h'].mode()\n",
    "\n",
    "# variance\n",
    "train['sc_h'].var()\n",
    "\n",
    "# standard deviation\n",
    "train['sc_h'].std()\n",
    "\n",
    "# range\n",
    "train['sc_h'].max() - train['sc_h'].min()\n",
    "\n",
    "# quartile\n",
    "train['sc_h'].quantile([0.25, 0.5, 0.75])\n",
    "\n",
    "# IQR\n",
    "train['sc_h'].quantile(0.75) - train['sc_h'].quantile(0.25)\n",
    "\n",
    "# minimum\n",
    "train['sc_h'].min()\n",
    "\n",
    "# maximum\n",
    "train['sc_h'].max()\n",
    "\n",
    "# print\n",
    "print('Mean: ', train['sc_h'].mean())\n",
    "print('Median: ', train['sc_h'].median())\n",
    "print('Mode: ', train['sc_h'].mode())\n",
    "print('Variance: ', train['sc_h'].var())\n",
    "print('Standard Deviation: ', train['sc_h'].std())\n",
    "print('Range: ', train['sc_h'].max() - train['sc_h'].min())\n",
    "print('Quartile: ', train['sc_h'].quantile([0.25, 0.5, 0.75]))\n",
    "print('IQR: ', train['sc_h'].quantile(0.75) - train['sc_h'].quantile(0.25))\n",
    "print('Minimum: ', train['sc_h'].min())\n",
    "print('Maximum: ', train['sc_h'].max())\n"
   ]
  },
  {
   "cell_type": "code",
   "execution_count": 11,
   "metadata": {},
   "outputs": [
    {
     "name": "stdout",
     "output_type": "stream",
     "text": [
      "Mean:  5.665\n",
      "Median:  5.0\n",
      "Mode:  0    1\n",
      "Name: sc_w, dtype: int64\n",
      "Variance:  19.11642959256612\n",
      "Standard Deviation:  4.372233936166513\n",
      "Range:  18\n",
      "Quartile:  0.25    2.0\n",
      "0.50    5.0\n",
      "0.75    9.0\n",
      "Name: sc_w, dtype: float64\n",
      "IQR:  7.0\n",
      "Minimum:  0\n",
      "Maximum:  18\n"
     ]
    }
   ],
   "source": [
    "# sc_w: Screen Width of mobile in cm\n",
    "\n",
    "# mean\n",
    "train['sc_w'].mean()\n",
    "\n",
    "# median\n",
    "train['sc_w'].median()\n",
    "\n",
    "# mode\n",
    "train['sc_w'].mode()\n",
    "\n",
    "# variance\n",
    "train['sc_w'].var()\n",
    "\n",
    "# standard deviation\n",
    "train['sc_w'].std()\n",
    "\n",
    "# range\n",
    "train['sc_w'].max() - train['sc_w'].min()\n",
    "\n",
    "# quartile\n",
    "train['sc_w'].quantile([0.25, 0.5, 0.75])\n",
    "\n",
    "# IQR\n",
    "train['sc_w'].quantile(0.75) - train['sc_w'].quantile(0.25)\n",
    "\n",
    "# minimum\n",
    "train['sc_w'].min()\n",
    "\n",
    "# maximum\n",
    "train['sc_w'].max()\n",
    "\n",
    "# print\n",
    "print('Mean: ', train['sc_w'].mean())\n",
    "print('Median: ', train['sc_w'].median())\n",
    "print('Mode: ', train['sc_w'].mode())\n",
    "print('Variance: ', train['sc_w'].var())\n",
    "print('Standard Deviation: ', train['sc_w'].std())\n",
    "print('Range: ', train['sc_w'].max() - train['sc_w'].min())\n",
    "print('Quartile: ', train['sc_w'].quantile([0.25, 0.5, 0.75]))\n",
    "print('IQR: ', train['sc_w'].quantile(0.75) - train['sc_w'].quantile(0.25))\n",
    "print('Minimum: ', train['sc_w'].min())\n",
    "print('Maximum: ', train['sc_w'].max())"
   ]
  },
  {
   "cell_type": "code",
   "execution_count": 12,
   "metadata": {},
   "outputs": [
    {
     "name": "stdout",
     "output_type": "stream",
     "text": [
      "Mean:  11.042142857142856\n",
      "Median:  11.0\n",
      "Mode:  0    15\n",
      "Name: talk_time, dtype: int64\n",
      "Variance:  29.14975952210763\n",
      "Standard Deviation:  5.399051724340825\n",
      "Range:  18\n",
      "Quartile:  0.25     6.0\n",
      "0.50    11.0\n",
      "0.75    16.0\n",
      "Name: talk_time, dtype: float64\n",
      "IQR:  10.0\n",
      "Minimum:  2\n",
      "Maximum:  20\n"
     ]
    }
   ],
   "source": [
    "# talk_time: longest time that a single battery charge will last when you are\n",
    "\n",
    "# mean\n",
    "train['talk_time'].mean()\n",
    "\n",
    "# median\n",
    "train['talk_time'].median()\n",
    "\n",
    "# mode\n",
    "train['talk_time'].mode()\n",
    "\n",
    "# variance\n",
    "train['talk_time'].var()\n",
    "\n",
    "# standard deviation\n",
    "train['talk_time'].std()\n",
    "\n",
    "# range\n",
    "train['talk_time'].max() - train['talk_time'].min()\n",
    "\n",
    "# quartile\n",
    "train['talk_time'].quantile([0.25, 0.5, 0.75])\n",
    "\n",
    "# IQR\n",
    "train['talk_time'].quantile(0.75) - train['talk_time'].quantile(0.25)\n",
    "\n",
    "# minimum\n",
    "train['talk_time'].min()\n",
    "\n",
    "# maximum\n",
    "train['talk_time'].max()\n",
    "\n",
    "# print\n",
    "print('Mean: ', train['talk_time'].mean())\n",
    "print('Median: ', train['talk_time'].median())\n",
    "print('Mode: ', train['talk_time'].mode())\n",
    "print('Variance: ', train['talk_time'].var())\n",
    "print('Standard Deviation: ', train['talk_time'].std())\n",
    "print('Range: ', train['talk_time'].max() - train['talk_time'].min())\n",
    "print('Quartile: ', train['talk_time'].quantile([0.25, 0.5, 0.75]))\n",
    "print('IQR: ', train['talk_time'].quantile(0.75) - train['talk_time'].quantile(0.25))\n",
    "print('Minimum: ', train['talk_time'].min())\n",
    "print('Maximum: ', train['talk_time'].max())\n"
   ]
  },
  {
   "cell_type": "code",
   "execution_count": 13,
   "metadata": {},
   "outputs": [
    {
     "name": "stdout",
     "output_type": "stream",
     "text": [
      "Median:  1.0\n",
      "Mode:  0    1\n",
      "Name: three_g, dtype: int64\n"
     ]
    }
   ],
   "source": [
    "# three_g: Has 3G or not\n",
    "\n",
    "# median\n",
    "train['three_g'].median()\n",
    "\n",
    "# mode\n",
    "train['three_g'].mode()\n",
    "\n",
    "# print\n",
    "print('Median: ', train['three_g'].median())\n",
    "print('Mode: ', train['three_g'].mode())"
   ]
  },
  {
   "cell_type": "code",
   "execution_count": 14,
   "metadata": {},
   "outputs": [
    {
     "name": "stdout",
     "output_type": "stream",
     "text": [
      "Median:  0.0\n",
      "Mode:  0    0\n",
      "Name: touch_screen, dtype: int64\n"
     ]
    }
   ],
   "source": [
    "# touch_screen: Has touch screen or not\n",
    "\n",
    "# median\n",
    "train['touch_screen'].median()\n",
    "\n",
    "# mode\n",
    "train['touch_screen'].mode()\n",
    "\n",
    "# print\n",
    "print('Median: ', train['touch_screen'].median())\n",
    "print('Mode: ', train['touch_screen'].mode())"
   ]
  },
  {
   "cell_type": "code",
   "execution_count": 15,
   "metadata": {},
   "outputs": [
    {
     "name": "stdout",
     "output_type": "stream",
     "text": [
      "Median:  0.0\n",
      "Mode:  0    0\n",
      "Name: wifi, dtype: int64\n"
     ]
    }
   ],
   "source": [
    "# wifi: Has wifi or not\n",
    "\n",
    "# median\n",
    "train['wifi'].median()\n",
    "\n",
    "# mode\n",
    "train['wifi'].mode()\n",
    "\n",
    "# print\n",
    "print('Median: ', train['wifi'].median())\n",
    "print('Mode: ', train['wifi'].mode())"
   ]
  },
  {
   "cell_type": "code",
   "execution_count": 16,
   "metadata": {},
   "outputs": [
    {
     "name": "stdout",
     "output_type": "stream",
     "text": [
      "Median:  1.0\n",
      "Mode:  0    0\n",
      "Name: price_range, dtype: int64\n"
     ]
    }
   ],
   "source": [
    "# price_range: This is the target variable with value of 0(low cost), 1(medium cost), 2(high cost) and 3(very high cost).\n",
    "\n",
    "# median\n",
    "train['price_range'].median()\n",
    "\n",
    "# mode\n",
    "train['price_range'].mode()\n",
    "\n",
    "# print\n",
    "print('Median: ', train['price_range'].median())\n",
    "print('Mode: ', train['price_range'].mode())"
   ]
  },
  {
   "cell_type": "code",
   "execution_count": 23,
   "metadata": {},
   "outputs": [
    {
     "data": {
      "text/plain": [
       "0"
      ]
     },
     "execution_count": 23,
     "metadata": {},
     "output_type": "execute_result"
    }
   ],
   "source": [
    "train.duplicated().sum()"
   ]
  },
  {
   "cell_type": "code",
   "execution_count": 25,
   "metadata": {},
   "outputs": [
    {
     "data": {
      "text/plain": [
       "battery_power    0\n",
       "blue             0\n",
       "clock_speed      0\n",
       "dual_sim         0\n",
       "fc               0\n",
       "four_g           0\n",
       "int_memory       0\n",
       "m_dep            0\n",
       "mobile_wt        0\n",
       "n_cores          0\n",
       "pc               0\n",
       "px_height        0\n",
       "px_width         0\n",
       "ram              0\n",
       "sc_h             0\n",
       "sc_w             0\n",
       "talk_time        0\n",
       "three_g          0\n",
       "touch_screen     0\n",
       "wifi             0\n",
       "price_range      0\n",
       "dtype: int64"
      ]
     },
     "execution_count": 25,
     "metadata": {},
     "output_type": "execute_result"
    }
   ],
   "source": [
    "train.isnull().sum()"
   ]
  },
  {
   "cell_type": "code",
   "execution_count": 29,
   "metadata": {},
   "outputs": [],
   "source": [
    "import matplotlib.pyplot as plt\n",
    "import scipy.stats as stats\n",
    "import seaborn as sns"
   ]
  },
  {
   "cell_type": "code",
   "execution_count": 47,
   "metadata": {},
   "outputs": [
    {
     "name": "stdout",
     "output_type": "stream",
     "text": [
      "Battery Power tidak berdistribusi normal\n"
     ]
    },
    {
     "data": {
      "image/png": "[encoded data removed]",
      "text/plain": [
       "<Figure size 640x480 with 1 Axes>"
      ]
     },
     "metadata": {},
     "output_type": "display_data"
    },
    {
     "name": "stdout",
     "output_type": "stream",
     "text": [
      "Nilai kurtosis adalah -1.1680683536883105\n"
     ]
    }
   ],
   "source": [
    "# battery_power\n",
    "\n",
    "stat, p = stats.normaltest(train['battery_power'])\n",
    "a = 0.05\n",
    "if p > a:\n",
    "    print('Battery Power berdistribusi normal')\n",
    "else:\n",
    "    print('Battery Power tidak berdistribusi normal')\n",
    "\n",
    "sns.pointplot(train['battery_power'])\n",
    "plt.show()\n",
    "\n",
    "# kurtosis\n",
    "print('Nilai kurtosis adalah ' + str(train['battery_power'].kurtosis()))"
   ]
  },
  {
   "cell_type": "code",
   "execution_count": 46,
   "metadata": {},
   "outputs": [
    {
     "name": "stdout",
     "output_type": "stream",
     "text": [
      "Blue tidak berdistribusi normal\n"
     ]
    },
    {
     "data": {
      "image/png": "[encoded data removed]",
      "text/plain": [
       "<Figure size 640x480 with 1 Axes>"
      ]
     },
     "metadata": {},
     "output_type": "display_data"
    },
    {
     "name": "stdout",
     "output_type": "stream",
     "text": [
      "Nilai kurtosis adalah -2.0021995766470653\n"
     ]
    }
   ],
   "source": [
    "# blue\n",
    "\n",
    "stat, p = stats.normaltest(train['blue'])\n",
    "a = 0.05\n",
    "if p > a:\n",
    "    print('Blue berdistribusi normal')\n",
    "else:\n",
    "    print('Blue tidak berdistribusi normal')\n",
    "\n",
    "sns.histplot(train['blue'])\n",
    "plt.show()\n",
    "\n",
    "# kurtosis\n",
    "print('Nilai kurtosis adalah ' + str(train['blue'].kurtosis()))"
   ]
  },
  {
   "cell_type": "code",
   "execution_count": 45,
   "metadata": {},
   "outputs": [
    {
     "name": "stdout",
     "output_type": "stream",
     "text": [
      "Clock Speed tidak berdistribusi normal\n"
     ]
    },
    {
     "data": {
      "image/png": "[encoded data removed]",
      "text/plain": [
       "<Figure size 640x480 with 1 Axes>"
      ]
     },
     "metadata": {},
     "output_type": "display_data"
    },
    {
     "name": "stdout",
     "output_type": "stream",
     "text": [
      "Nilai kurtosis adalah -1.3295231896521231\n"
     ]
    }
   ],
   "source": [
    "# clock_speed\n",
    "\n",
    "stat, p = stats.normaltest(train['clock_speed'])\n",
    "a = 0.05\n",
    "if p > a:\n",
    "    print('Clock Speed berdistribusi normal')\n",
    "else:\n",
    "    print('Clock Speed tidak berdistribusi normal')\n",
    "\n",
    "sns.pointplot(train['clock_speed'])\n",
    "plt.show()\n",
    "\n",
    "# kurtosis\n",
    "print('Nilai kurtosis adalah ' + str(train['clock_speed'].kurtosis()))"
   ]
  },
  {
   "cell_type": "code",
   "execution_count": 44,
   "metadata": {},
   "outputs": [
    {
     "name": "stdout",
     "output_type": "stream",
     "text": [
      "Dual Sim tidak berdistribusi normal\n"
     ]
    },
    {
     "data": {
      "image/png": "[encoded data removed]",
      "text/plain": [
       "<Figure size 640x480 with 1 Axes>"
      ]
     },
     "metadata": {},
     "output_type": "display_data"
    },
    {
     "name": "stdout",
     "output_type": "stream",
     "text": [
      "Nilai kurtosis adalah -2.0027321942539658\n"
     ]
    }
   ],
   "source": [
    "# dual_sim\n",
    "\n",
    "stat, p = stats.normaltest(train['dual_sim'])\n",
    "a = 0.05\n",
    "if p > a:\n",
    "    print('Dual Sim berdistribusi normal')\n",
    "else:\n",
    "    print('Dual Sim tidak berdistribusi normal')\n",
    "\n",
    "sns.histplot(train['dual_sim'])\n",
    "plt.show()\n",
    "\n",
    "# kurtosis\n",
    "print('Nilai kurtosis adalah ' + str(train['dual_sim'].kurtosis()))"
   ]
  },
  {
   "cell_type": "code",
   "execution_count": 43,
   "metadata": {},
   "outputs": [
    {
     "name": "stdout",
     "output_type": "stream",
     "text": [
      "Front Camera tidak berdistribusi normal\n"
     ]
    },
    {
     "data": {
      "image/png": "[encoded data removed]",
      "text/plain": [
       "<Figure size 640x480 with 1 Axes>"
      ]
     },
     "metadata": {},
     "output_type": "display_data"
    },
    {
     "name": "stdout",
     "output_type": "stream",
     "text": [
      "Nilai kurtosis adalah 0.29340439238319194\n"
     ]
    }
   ],
   "source": [
    "# fc\n",
    "\n",
    "stat, p = stats.normaltest(train['fc'])\n",
    "a = 0.05\n",
    "if p > a:\n",
    "    print('Front Camera berdistribusi normal')\n",
    "else:\n",
    "    print('Front Camera tidak berdistribusi normal')\n",
    "\n",
    "sns.pointplot(train['fc'])\n",
    "plt.show()\n",
    "\n",
    "# kurtosis\n",
    "print('Nilai kurtosis adalah ' + str(train['fc'].kurtosis()))"
   ]
  },
  {
   "cell_type": "code",
   "execution_count": 48,
   "metadata": {},
   "outputs": [
    {
     "name": "stdout",
     "output_type": "stream",
     "text": [
      "4G tidak berdistribusi normal\n"
     ]
    },
    {
     "data": {
      "image/png": "[encoded data removed]",
      "text/plain": [
       "<Figure size 640x480 with 1 Axes>"
      ]
     },
     "metadata": {},
     "output_type": "display_data"
    },
    {
     "name": "stdout",
     "output_type": "stream",
     "text": [
      "Nilai kurtosis adalah -1.988359503732917\n"
     ]
    }
   ],
   "source": [
    "# four_g\n",
    "\n",
    "stat, p = stats.normaltest(train['four_g'])\n",
    "a = 0.05\n",
    "if p > a:\n",
    "    print('4G berdistribusi normal')\n",
    "else:\n",
    "    print('4G tidak berdistribusi normal')\n",
    "\n",
    "sns.histplot(train['four_g'])\n",
    "plt.show()\n",
    "\n",
    "# kurtosis\n",
    "print('Nilai kurtosis adalah ' + str(train['four_g'].kurtosis()))"
   ]
  },
  {
   "cell_type": "code",
   "execution_count": 49,
   "metadata": {},
   "outputs": [
    {
     "name": "stdout",
     "output_type": "stream",
     "text": [
      "Internal Memory tidak berdistribusi normal\n"
     ]
    },
    {
     "data": {
      "image/png": "[encoded data removed]",
      "text/plain": [
       "<Figure size 640x480 with 1 Axes>"
      ]
     },
     "metadata": {},
     "output_type": "display_data"
    },
    {
     "name": "stdout",
     "output_type": "stream",
     "text": [
      "Nilai kurtosis adalah -1.22719971066165\n"
     ]
    }
   ],
   "source": [
    "# int_memory\n",
    "\n",
    "stat, p = stats.normaltest(train['int_memory'])\n",
    "a = 0.05\n",
    "if p > a:\n",
    "    print('Internal Memory berdistribusi normal')\n",
    "else:\n",
    "    print('Internal Memory tidak berdistribusi normal')\n",
    "\n",
    "\n",
    "sns.pointplot(train['int_memory'])\n",
    "plt.show()\n",
    "\n",
    "# kurtosis\n",
    "print('Nilai kurtosis adalah ' + str(train['int_memory'].kurtosis()))"
   ]
  },
  {
   "cell_type": "code",
   "execution_count": 50,
   "metadata": {},
   "outputs": [
    {
     "name": "stdout",
     "output_type": "stream",
     "text": [
      "Mobile Depth tidak berdistribusi normal\n"
     ]
    },
    {
     "data": {
      "image/png": "[encoded data removed]",
      "text/plain": [
       "<Figure size 640x480 with 1 Axes>"
      ]
     },
     "metadata": {},
     "output_type": "display_data"
    },
    {
     "name": "stdout",
     "output_type": "stream",
     "text": [
      "Nilai kurtosis adalah -1.2668226719440638\n"
     ]
    }
   ],
   "source": [
    "# m_dep\n",
    "\n",
    "stat, p = stats.normaltest(train['m_dep'])\n",
    "a = 0.05\n",
    "if p > a:\n",
    "    print('Mobile Depth berdistribusi normal')\n",
    "else:\n",
    "    print('Mobile Depth tidak berdistribusi normal')\n",
    "\n",
    "sns.pointplot(train['m_dep'])\n",
    "plt.show()\n",
    "\n",
    "# kurtosis\n",
    "print('Nilai kurtosis adalah ' + str(train['m_dep'].kurtosis()))"
   ]
  },
  {
   "cell_type": "code",
   "execution_count": 51,
   "metadata": {},
   "outputs": [
    {
     "name": "stdout",
     "output_type": "stream",
     "text": [
      "Mobile Weight tidak berdistribusi normal\n"
     ]
    },
    {
     "data": {
      "image/png": "[encoded data removed]",
      "text/plain": [
       "<Figure size 640x480 with 1 Axes>"
      ]
     },
     "metadata": {},
     "output_type": "display_data"
    },
    {
     "name": "stdout",
     "output_type": "stream",
     "text": [
      "Nilai kurtosis adalah -1.210202007194779\n"
     ]
    }
   ],
   "source": [
    "# mobile_wt\n",
    "\n",
    "stat, p = stats.normaltest(train['mobile_wt'])\n",
    "a = 0.05\n",
    "if p > a:\n",
    "    print('Mobile Weight berdistribusi normal')\n",
    "else:\n",
    "    print('Mobile Weight tidak berdistribusi normal')\n",
    "\n",
    "sns.pointplot(train['mobile_wt'])\n",
    "plt.show()\n",
    "\n",
    "# kurtosis\n",
    "print('Nilai kurtosis adalah ' + str(train['mobile_wt'].kurtosis()))"
   ]
  },
  {
   "cell_type": "code",
   "execution_count": 52,
   "metadata": {},
   "outputs": [
    {
     "name": "stdout",
     "output_type": "stream",
     "text": [
      "Number of Cores tidak berdistribusi normal\n"
     ]
    },
    {
     "data": {
      "image/png": "[encoded data removed]",
      "text/plain": [
       "<Figure size 640x480 with 1 Axes>"
      ]
     },
     "metadata": {},
     "output_type": "display_data"
    },
    {
     "name": "stdout",
     "output_type": "stream",
     "text": [
      "Nilai kurtosis adalah -1.2322085699401253\n"
     ]
    }
   ],
   "source": [
    "# n_cores\n",
    "\n",
    "stat, p = stats.normaltest(train['n_cores'])\n",
    "a = 0.05\n",
    "if p > a:\n",
    "    print('Number of Cores berdistribusi normal')\n",
    "else:\n",
    "    print('Number of Cores tidak berdistribusi normal')\n",
    "\n",
    "sns.pointplot(train['n_cores'])\n",
    "plt.show()\n",
    "\n",
    "# kurtosis\n",
    "print('Nilai kurtosis adalah ' + str(train['n_cores'].kurtosis()))"
   ]
  },
  {
   "cell_type": "code",
   "execution_count": 53,
   "metadata": {},
   "outputs": [
    {
     "name": "stdout",
     "output_type": "stream",
     "text": [
      "Primary Camera tidak berdistribusi normal\n"
     ]
    },
    {
     "data": {
      "image/png": "[encoded data removed]",
      "text/plain": [
       "<Figure size 640x480 with 1 Axes>"
      ]
     },
     "metadata": {},
     "output_type": "display_data"
    },
    {
     "name": "stdout",
     "output_type": "stream",
     "text": [
      "Nilai kurtosis adalah -1.1638760893853588\n"
     ]
    }
   ],
   "source": [
    "# pc\n",
    "\n",
    "stat, p = stats.normaltest(train['pc'])\n",
    "a = 0.05\n",
    "if p > a:\n",
    "    print('Primary Camera berdistribusi normal')\n",
    "else:\n",
    "    print('Primary Camera tidak berdistribusi normal')\n",
    "\n",
    "sns.pointplot(train['pc'])\n",
    "plt.show()\n",
    "\n",
    "# kurtosis\n",
    "print('Nilai kurtosis adalah ' + str(train['pc'].kurtosis()))"
   ]
  },
  {
   "cell_type": "code",
   "execution_count": 54,
   "metadata": {},
   "outputs": [
    {
     "name": "stdout",
     "output_type": "stream",
     "text": [
      "Pixel Resolution Height tidak berdistribusi normal\n"
     ]
    },
    {
     "data": {
      "image/png": "[encoded data removed]",
      "text/plain": [
       "<Figure size 640x480 with 1 Axes>"
      ]
     },
     "metadata": {},
     "output_type": "display_data"
    },
    {
     "name": "stdout",
     "output_type": "stream",
     "text": [
      "Nilai kurtosis adalah -0.3162286486894521\n"
     ]
    }
   ],
   "source": [
    "# px_height\n",
    "\n",
    "stat, p = stats.normaltest(train['px_height'])\n",
    "a = 0.05\n",
    "if p > a:\n",
    "    print('Pixel Resolution Height berdistribusi normal')\n",
    "else:\n",
    "    print('Pixel Resolution Height tidak berdistribusi normal')\n",
    "\n",
    "sns.pointplot(train['px_height'])\n",
    "plt.show()\n",
    "\n",
    "# kurtosis\n",
    "print('Nilai kurtosis adalah ' + str(train['px_height'].kurtosis()))"
   ]
  },
  {
   "cell_type": "code",
   "execution_count": 55,
   "metadata": {},
   "outputs": [
    {
     "name": "stdout",
     "output_type": "stream",
     "text": [
      "Pixel Resolution Width tidak berdistribusi normal\n"
     ]
    },
    {
     "data": {
      "image/png": "[encoded data removed]",
      "text/plain": [
       "<Figure size 640x480 with 1 Axes>"
      ]
     },
     "metadata": {},
     "output_type": "display_data"
    },
    {
     "name": "stdout",
     "output_type": "stream",
     "text": [
      "Nilai kurtosis adalah -1.1760245181224622\n"
     ]
    }
   ],
   "source": [
    "# px_width\n",
    "\n",
    "stat, p = stats.normaltest(train['px_width'])\n",
    "a = 0.05\n",
    "if p > a:\n",
    "    print('Pixel Resolution Width berdistribusi normal')\n",
    "else:\n",
    "    print('Pixel Resolution Width tidak berdistribusi normal')\n",
    "\n",
    "sns.pointplot(train['px_width'])\n",
    "plt.show()\n",
    "\n",
    "# kurtosis\n",
    "print('Nilai kurtosis adalah ' + str(train['px_width'].kurtosis()))"
   ]
  },
  {
   "cell_type": "code",
   "execution_count": 56,
   "metadata": {},
   "outputs": [
    {
     "name": "stdout",
     "output_type": "stream",
     "text": [
      "Random Access Memory tidak berdistribusi normal\n"
     ]
    },
    {
     "data": {
      "image/png": "[encoded data removed]",
      "text/plain": [
       "<Figure size 640x480 with 1 Axes>"
      ]
     },
     "metadata": {},
     "output_type": "display_data"
    },
    {
     "name": "stdout",
     "output_type": "stream",
     "text": [
      "Nilai kurtosis adalah -1.1861412453532745\n"
     ]
    }
   ],
   "source": [
    "# ram\n",
    "\n",
    "stat, p = stats.normaltest(train['ram'])\n",
    "a = 0.05\n",
    "if p > a:\n",
    "    print('Random Access Memory berdistribusi normal')\n",
    "else:\n",
    "    print('Random Access Memory tidak berdistribusi normal')\n",
    "\n",
    "sns.pointplot(train['ram'])\n",
    "plt.show()\n",
    "\n",
    "# kurtosis\n",
    "print('Nilai kurtosis adalah ' + str(train['ram'].kurtosis()))"
   ]
  },
  {
   "cell_type": "code",
   "execution_count": 57,
   "metadata": {},
   "outputs": [
    {
     "name": "stdout",
     "output_type": "stream",
     "text": [
      "Screen Height tidak berdistribusi normal\n"
     ]
    },
    {
     "data": {
      "image/png": "[encoded data removed]",
      "text/plain": [
       "<Figure size 640x480 with 1 Axes>"
      ]
     },
     "metadata": {},
     "output_type": "display_data"
    },
    {
     "name": "stdout",
     "output_type": "stream",
     "text": [
      "Nilai kurtosis adalah -1.183273418204271\n"
     ]
    }
   ],
   "source": [
    "# sc_h\n",
    "\n",
    "stat, p = stats.normaltest(train['sc_h'])\n",
    "a = 0.05\n",
    "if p > a:\n",
    "    print('Screen Height berdistribusi normal')\n",
    "else:\n",
    "    print('Screen Height tidak berdistribusi normal')\n",
    "\n",
    "sns.pointplot(train['sc_h'])\n",
    "plt.show()\n",
    "\n",
    "# kurtosis\n",
    "print('Nilai kurtosis adalah ' + str(train['sc_h'].kurtosis()))"
   ]
  },
  {
   "cell_type": "code",
   "execution_count": 58,
   "metadata": {},
   "outputs": [
    {
     "name": "stdout",
     "output_type": "stream",
     "text": [
      "Screen Width tidak berdistribusi normal\n"
     ]
    },
    {
     "data": {
      "image/png": "[encoded data removed]",
      "text/plain": [
       "<Figure size 640x480 with 1 Axes>"
      ]
     },
     "metadata": {},
     "output_type": "display_data"
    },
    {
     "name": "stdout",
     "output_type": "stream",
     "text": [
      "Nilai kurtosis adalah -0.3346408708969695\n"
     ]
    }
   ],
   "source": [
    "# sc_w\n",
    "\n",
    "stat, p = stats.normaltest(train['sc_w'])\n",
    "a = 0.05\n",
    "if p > a:\n",
    "    print('Screen Width berdistribusi normal')\n",
    "else:\n",
    "    print('Screen Width tidak berdistribusi normal')\n",
    "\n",
    "sns.pointplot(train['sc_w'])\n",
    "plt.show()\n",
    "\n",
    "# kurtosis\n",
    "print('Nilai kurtosis adalah ' + str(train['sc_w'].kurtosis()))"
   ]
  },
  {
   "cell_type": "code",
   "execution_count": 59,
   "metadata": {},
   "outputs": [
    {
     "name": "stdout",
     "output_type": "stream",
     "text": [
      "Talk Time tidak berdistribusi normal\n"
     ]
    },
    {
     "data": {
      "image/png": "[encoded data removed]",
      "text/plain": [
       "<Figure size 640x480 with 1 Axes>"
      ]
     },
     "metadata": {},
     "output_type": "display_data"
    },
    {
     "name": "stdout",
     "output_type": "stream",
     "text": [
      "Nilai kurtosis adalah -1.1920181405410146\n"
     ]
    }
   ],
   "source": [
    "# talk_time\n",
    "\n",
    "stat, p = stats.normaltest(train['talk_time'])\n",
    "a = 0.05\n",
    "if p > a:\n",
    "    print('Talk Time berdistribusi normal')\n",
    "else:\n",
    "    print('Talk Time tidak berdistribusi normal')\n",
    "\n",
    "sns.pointplot(train['talk_time'])\n",
    "plt.show()\n",
    "\n",
    "# kurtosis\n",
    "print('Nilai kurtosis adalah ' + str(train['talk_time'].kurtosis()))"
   ]
  },
  {
   "cell_type": "code",
   "execution_count": 60,
   "metadata": {},
   "outputs": [
    {
     "name": "stdout",
     "output_type": "stream",
     "text": [
      "3G tidak berdistribusi normal\n"
     ]
    },
    {
     "data": {
      "image/png": "[encoded data removed]",
      "text/plain": [
       "<Figure size 640x480 with 1 Axes>"
      ]
     },
     "metadata": {},
     "output_type": "display_data"
    },
    {
     "name": "stdout",
     "output_type": "stream",
     "text": [
      "Nilai kurtosis adalah -0.5038565656955596\n"
     ]
    }
   ],
   "source": [
    "# three_g\n",
    "\n",
    "stat, p = stats.normaltest(train['three_g'])\n",
    "a = 0.05\n",
    "if p > a:\n",
    "    print('3G berdistribusi normal')\n",
    "else:\n",
    "    print('3G tidak berdistribusi normal')\n",
    "\n",
    "sns.histplot(train['three_g'])\n",
    "plt.show()\n",
    "\n",
    "# kurtosis\n",
    "print('Nilai kurtosis adalah ' + str(train['three_g'].kurtosis()))"
   ]
  },
  {
   "cell_type": "code",
   "execution_count": 61,
   "metadata": {},
   "outputs": [
    {
     "name": "stdout",
     "output_type": "stream",
     "text": [
      "Touch Screen tidak berdistribusi normal\n"
     ]
    },
    {
     "data": {
      "image/png": "[encoded data removed]",
      "text/plain": [
       "<Figure size 640x480 with 1 Axes>"
      ]
     },
     "metadata": {},
     "output_type": "display_data"
    },
    {
     "name": "stdout",
     "output_type": "stream",
     "text": [
      "Nilai kurtosis adalah -2.001019120277637\n"
     ]
    }
   ],
   "source": [
    "# touch_screen\n",
    "\n",
    "stat, p = stats.normaltest(train['touch_screen'])\n",
    "a = 0.05\n",
    "if p > a:\n",
    "    print('Touch Screen berdistribusi normal')\n",
    "else:\n",
    "    print('Touch Screen tidak berdistribusi normal')\n",
    "\n",
    "sns.histplot(train['touch_screen'])\n",
    "plt.show()\n",
    "\n",
    "# kurtosis\n",
    "print('Nilai kurtosis adalah ' + str(train['touch_screen'].kurtosis()))"
   ]
  },
  {
   "cell_type": "code",
   "execution_count": 62,
   "metadata": {},
   "outputs": [
    {
     "name": "stdout",
     "output_type": "stream",
     "text": [
      "Wifi tidak berdistribusi normal\n"
     ]
    },
    {
     "data": {
      "image/png": "[encoded data removed]",
      "text/plain": [
       "<Figure size 640x480 with 1 Axes>"
      ]
     },
     "metadata": {},
     "output_type": "display_data"
    },
    {
     "name": "stdout",
     "output_type": "stream",
     "text": [
      "Nilai kurtosis adalah -2.002461806052926\n"
     ]
    }
   ],
   "source": [
    "# wifi\n",
    "\n",
    "stat, p = stats.normaltest(train['wifi'])\n",
    "a = 0.05\n",
    "if p > a:\n",
    "    print('Wifi berdistribusi normal')\n",
    "else:\n",
    "    print('Wifi tidak berdistribusi normal')\n",
    "\n",
    "sns.histplot(train['wifi'])\n",
    "plt.show()\n",
    "\n",
    "# kurtosis\n",
    "print('Nilai kurtosis adalah ' + str(train['wifi'].kurtosis()))"
   ]
  },
  {
   "cell_type": "code",
   "execution_count": 63,
   "metadata": {},
   "outputs": [
    {
     "name": "stdout",
     "output_type": "stream",
     "text": [
      "Price Range tidak berdistribusi normal\n"
     ]
    },
    {
     "data": {
      "image/png": "[encoded data removed]",
      "text/plain": [
       "<Figure size 640x480 with 1 Axes>"
      ]
     },
     "metadata": {},
     "output_type": "display_data"
    },
    {
     "name": "stdout",
     "output_type": "stream",
     "text": [
      "Nilai kurtosis adalah -1.3578364541070524\n"
     ]
    }
   ],
   "source": [
    "# price_range\n",
    "\n",
    "stat, p = stats.normaltest(train['price_range'])\n",
    "a = 0.05\n",
    "if p > a:\n",
    "    print('Price Range berdistribusi normal')\n",
    "else:\n",
    "    print('Price Range tidak berdistribusi normal')\n",
    "\n",
    "sns.histplot(train['price_range'])\n",
    "plt.show()\n",
    "\n",
    "# kurtosis\n",
    "print('Nilai kurtosis adalah ' + str(train['price_range'].kurtosis()))"
   ]
  }
 ],
 "metadata": {
  "kernelspec": {
   "display_name": "Python 3",
   "language": "python",
   "name": "python3"
  },
  "language_info": {
   "codemirror_mode": {
    "name": "ipython",
    "version": 3
   },
   "file_extension": ".py",
   "mimetype": "text/x-python",
   "name": "python",
   "nbconvert_exporter": "python",
   "pygments_lexer": "ipython3",
   "version": "3.10.11"
  }
 },
 "nbformat": 4,
 "nbformat_minor": 2
}
